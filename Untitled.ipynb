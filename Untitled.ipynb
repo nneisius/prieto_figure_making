{
 "cells": [
  {
   "cell_type": "code",
   "execution_count": null,
   "metadata": {
    "collapsed": true
   },
   "outputs": [],
   "source": [
    "import matplotlib.pyplot as plt\n",
    "import numpy as np\n",
    "import pandas as pd\n",
    "cycle_data = pd.read_excel('Arbin_Cycling_Data.xlsx',  #excel file where data is located\n",
    "        sheet_name=-1,                                 #selects the last sheet in the excel workbook to be used\n",
    "        usecols='A,F,H',            #these are the columns in the excel sheet that data is loaded from\n",
    "        names=['cycle','charge','discharge'])"
   ]
  }
 ],
 "metadata": {
  "kernelspec": {
   "display_name": "Python 3",
   "language": "python",
   "name": "python3"
  },
  "language_info": {
   "codemirror_mode": {
    "name": "ipython",
    "version": 3
   },
   "file_extension": ".py",
   "mimetype": "text/x-python",
   "name": "python",
   "nbconvert_exporter": "python",
   "pygments_lexer": "ipython3",
   "version": "3.7.6"
  }
 },
 "nbformat": 4,
 "nbformat_minor": 2
}
