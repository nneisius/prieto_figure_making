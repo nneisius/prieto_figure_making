{
 "cells": [
  {
   "cell_type": "code",
   "execution_count": 2,
   "metadata": {
    "collapsed": true
   },
   "outputs": [],
   "source": [
    "import matplotlib.pyplot as plt\n",
    "import numpy as np\n",
    "import pandas as pd\n",
    "from pylab import figure   \n",
    "from pylab import rcParams\n",
    "from xlrd import open_workbook\n",
    "from itertools import cycle"
   ]
  },
  {
   "cell_type": "code",
   "execution_count": 4,
   "metadata": {},
   "outputs": [
    {
     "name": "stdout",
     "output_type": "stream",
     "text": [
      "96\n"
     ]
    }
   ],
   "source": [
    "datafile = open('Gamry_EIS_Data.DTA', encoding='latin1') \n",
    "counter=0                         #assigns a variable to an INTEGER as our \"line counter\"\n",
    "for line in datafile:             #loops over a sequence were every ELEMENT is a line in the datafile\n",
    "    counter += 1\n",
    "    if line.startswith('ZCURVE'):  #\"ZCURVE\" appears just before the data of interest\n",
    "        counter += 2       #Data starts two rows after 'ZCURVE'\n",
    "        break              #This stops the for-loop when the if-statement is satisfied\n",
    "print(counter)   "
   ]
  },
  {
   "cell_type": "code",
   "execution_count": null,
   "metadata": {
    "collapsed": true
   },
   "outputs": [],
   "source": []
  }
 ],
 "metadata": {
  "kernelspec": {
   "display_name": "Python 3",
   "language": "python",
   "name": "python3"
  },
  "language_info": {
   "codemirror_mode": {
    "name": "ipython",
    "version": 3
   },
   "file_extension": ".py",
   "mimetype": "text/x-python",
   "name": "python",
   "nbconvert_exporter": "python",
   "pygments_lexer": "ipython3",
   "version": "3.6.3"
  }
 },
 "nbformat": 4,
 "nbformat_minor": 2
}
